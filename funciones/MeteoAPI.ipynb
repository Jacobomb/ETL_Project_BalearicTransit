{
 "cells": [
  {
   "cell_type": "markdown",
   "metadata": {},
   "source": [
    "Vamos a utilizar este notebook para definir la función que extraiga información de la API"
   ]
  },
  {
   "cell_type": "code",
   "execution_count": 1,
   "metadata": {},
   "outputs": [],
   "source": [
    "import pandas as pd\n",
    "import openmeteo_requests\n",
    "import requests_cache\n",
    "from retry_requests import retry"
   ]
  },
  {
   "cell_type": "code",
   "execution_count": 2,
   "metadata": {},
   "outputs": [],
   "source": [
    "# Definimos la función\n",
    "def fetch_openmeteo_data(row):\n",
    "    url = \"https://archive-api.open-meteo.com/v1/archive\"\n",
    "    params = {\n",
    "        \"latitude\": row[\"LatitudPuertoLlegada\"],\n",
    "        \"longitude\": row[\"LongitudPuertoLlegada\"],\n",
    "        \"start_date\": row[\"llegada\"],\n",
    "        \"end_date\": row[\"salida\"],\n",
    "        \"daily\": [\"rain_sum\", \"wind_speed_10m_max\"]\n",
    "    }\n",
    "    responses = openmeteo.weather_api(url, params=params)\n",
    "    \n",
    "    # Process the response\n",
    "    response = responses[0]  # Assuming you are interested in the first response\n",
    "    daily = response.Daily()\n",
    "    daily_rain_sum = daily.Variables(0).ValuesAsNumpy()\n",
    "    daily_wind_speed_10m_max = daily.Variables(1).ValuesAsNumpy()\n",
    "    \n",
    "    return daily_rain_sum, daily_wind_speed_10m_max"
   ]
  },
  {
   "cell_type": "code",
   "execution_count": null,
   "metadata": {},
   "outputs": [],
   "source": []
  }
 ],
 "metadata": {
  "kernelspec": {
   "display_name": "clase",
   "language": "python",
   "name": "python3"
  },
  "language_info": {
   "codemirror_mode": {
    "name": "ipython",
    "version": 3
   },
   "file_extension": ".py",
   "mimetype": "text/x-python",
   "name": "python",
   "nbconvert_exporter": "python",
   "pygments_lexer": "ipython3",
   "version": "3.10.13"
  }
 },
 "nbformat": 4,
 "nbformat_minor": 2
}
