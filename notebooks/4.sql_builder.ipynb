{
 "cells": [
  {
   "cell_type": "markdown",
   "metadata": {},
   "source": [
    "#### Creación base de datos - SQL\n",
    "Este notebook se va a utilizar para crear y rellenar la base de datos con las tablas previamente trabajadas."
   ]
  },
  {
   "cell_type": "code",
   "execution_count": 1,
   "metadata": {},
   "outputs": [],
   "source": [
    "import mysql.connector as conn\n",
    "from sqlalchemy import create_engine\n",
    "import warnings\n",
    "warnings.filterwarnings('ignore')\n",
    "import pandas as pd"
   ]
  },
  {
   "cell_type": "code",
   "execution_count": 2,
   "metadata": {},
   "outputs": [],
   "source": [
    "with open('contraseñas.txt') as file:\n",
    "    mypasswd = file.read()"
   ]
  },
  {
   "cell_type": "code",
   "execution_count": 3,
   "metadata": {},
   "outputs": [
    {
     "data": {
      "text/plain": [
       "<mysql.connector.cursor_cext.CMySQLCursor at 0x1e917d63970>"
      ]
     },
     "execution_count": 3,
     "metadata": {},
     "output_type": "execute_result"
    }
   ],
   "source": [
    "# Nos conectamos al servidor \n",
    "conexion = conn.connect(host='localhost',\n",
    "                        user='root',\n",
    "                        passwd=f'{mypasswd}'\n",
    "                        )\n",
    "\n",
    "cursor  = conexion.cursor()\n",
    "\n",
    "cursor"
   ]
  },
  {
   "cell_type": "code",
   "execution_count": 5,
   "metadata": {},
   "outputs": [],
   "source": [
    "cursor.execute('drop database if exists transito')\n",
    "\n",
    "cursor.execute('create database transito;')"
   ]
  },
  {
   "cell_type": "code",
   "execution_count": 6,
   "metadata": {},
   "outputs": [],
   "source": [
    "conexion = conn.connect(host='localhost',\n",
    "                        user='root',\n",
    "                        passwd=f'{mypasswd}',\n",
    "                        database='transito'\n",
    "                        )\n",
    "\n",
    "cursor  = conexion.cursor()"
   ]
  },
  {
   "cell_type": "code",
   "execution_count": 7,
   "metadata": {},
   "outputs": [
    {
     "data": {
      "text/plain": [
       "<bound method CMySQLCursor.execute of <mysql.connector.cursor_cext.CMySQLCursor object at 0x000001E91808B820>>"
      ]
     },
     "execution_count": 7,
     "metadata": {},
     "output_type": "execute_result"
    }
   ],
   "source": [
    "c = cursor.execute\n",
    "c"
   ]
  },
  {
   "cell_type": "markdown",
   "metadata": {},
   "source": [
    "#### Insertamos tablas en el database"
   ]
  },
  {
   "cell_type": "code",
   "execution_count": 34,
   "metadata": {},
   "outputs": [],
   "source": [
    "# Leemos los 4 archivos csv que nos interesan\n",
    "df_transit_clean = pd.read_csv('../data/transit_clean.csv')\n",
    "df_puertos = pd.read_csv('../data/puertos.csv')\n",
    "df_transit_plus_weather = pd.read_csv('../data/transit_plus_weather.csv')\n",
    "df_otle_gt = pd.read_csv('../data/otle_gt.csv')"
   ]
  },
  {
   "cell_type": "markdown",
   "metadata": {},
   "source": [
    "#### Transit clean"
   ]
  },
  {
   "cell_type": "code",
   "execution_count": 19,
   "metadata": {},
   "outputs": [
    {
     "data": {
      "text/html": [
       "<div>\n",
       "<style scoped>\n",
       "    .dataframe tbody tr th:only-of-type {\n",
       "        vertical-align: middle;\n",
       "    }\n",
       "\n",
       "    .dataframe tbody tr th {\n",
       "        vertical-align: top;\n",
       "    }\n",
       "\n",
       "    .dataframe thead th {\n",
       "        text-align: right;\n",
       "    }\n",
       "</style>\n",
       "<table border=\"1\" class=\"dataframe\">\n",
       "  <thead>\n",
       "    <tr style=\"text-align: right;\">\n",
       "      <th></th>\n",
       "      <th>transit_id</th>\n",
       "      <th>barco</th>\n",
       "      <th>origen</th>\n",
       "      <th>destino</th>\n",
       "      <th>llegada</th>\n",
       "      <th>salida</th>\n",
       "      <th>alineacion</th>\n",
       "      <th>consignatorio</th>\n",
       "      <th>gt</th>\n",
       "      <th>escala</th>\n",
       "      <th>bandera</th>\n",
       "      <th>eslora</th>\n",
       "      <th>calado</th>\n",
       "    </tr>\n",
       "  </thead>\n",
       "  <tbody>\n",
       "    <tr>\n",
       "      <th>0</th>\n",
       "      <td>1</td>\n",
       "      <td>VALIANT LADY</td>\n",
       "      <td>CANNES</td>\n",
       "      <td>IBIZA</td>\n",
       "      <td>31/05/2023 17:44</td>\n",
       "      <td>01/06/2023 18:15</td>\n",
       "      <td>ALIN.NORTE DE LA PLATAFORMA (del 22 al 2)</td>\n",
       "      <td>ESTELA SHIPPING PALMA SA</td>\n",
       "      <td>108.192</td>\n",
       "      <td>192.0</td>\n",
       "      <td>BAHAMAS</td>\n",
       "      <td>277.0</td>\n",
       "      <td>8.0</td>\n",
       "    </tr>\n",
       "    <tr>\n",
       "      <th>1</th>\n",
       "      <td>2</td>\n",
       "      <td>ELEANOR ROOSEVELT</td>\n",
       "      <td>IBIZA</td>\n",
       "      <td>IBIZA</td>\n",
       "      <td>31/05/2023 22:28</td>\n",
       "      <td>01/06/2023 07:51</td>\n",
       "      <td>MUELLE PARAIRES (del 11 al 2)</td>\n",
       "      <td>BALEARIA EUROLINEAS MARITIMAS S.A.U.</td>\n",
       "      <td>12.262</td>\n",
       "      <td>2066.0</td>\n",
       "      <td>CHIPRE</td>\n",
       "      <td>123.0</td>\n",
       "      <td>4.0</td>\n",
       "    </tr>\n",
       "    <tr>\n",
       "      <th>2</th>\n",
       "      <td>3</td>\n",
       "      <td>TENACIA</td>\n",
       "      <td>BARCELONA</td>\n",
       "      <td>BARCELONA</td>\n",
       "      <td>01/06/2023 04:23</td>\n",
       "      <td>01/06/2023 09:59</td>\n",
       "      <td>M. 1ª ALIN. PONIENTE SUR (del 14 al 1)</td>\n",
       "      <td>TRANSPORTES Y CONSIGNACIONES MARITIMAS BALEAR SAU</td>\n",
       "      <td>25.993</td>\n",
       "      <td>2462.0</td>\n",
       "      <td>ITALIA</td>\n",
       "      <td>199.0</td>\n",
       "      <td>6.0</td>\n",
       "    </tr>\n",
       "    <tr>\n",
       "      <th>3</th>\n",
       "      <td>4</td>\n",
       "      <td>HEDY LAMARR</td>\n",
       "      <td>Valencia</td>\n",
       "      <td>Valencia</td>\n",
       "      <td>01/06/2023 04:53</td>\n",
       "      <td>01/06/2023 10:21</td>\n",
       "      <td>ALIN.OESTE DE LA PLATAFORMA (del 6 al 1)</td>\n",
       "      <td>BALEARIA EUROLINEAS MARITIMAS S.A.U.</td>\n",
       "      <td>26.375</td>\n",
       "      <td>2422.0</td>\n",
       "      <td>CHIPRE</td>\n",
       "      <td>186.0</td>\n",
       "      <td>7.0</td>\n",
       "    </tr>\n",
       "    <tr>\n",
       "      <th>4</th>\n",
       "      <td>5</td>\n",
       "      <td>HYPATIA DE ALEJANDRIA</td>\n",
       "      <td>BARCELONA</td>\n",
       "      <td>BARCELONA</td>\n",
       "      <td>01/06/2023 05:19</td>\n",
       "      <td>01/06/2023 11:35</td>\n",
       "      <td>MUELLE DE LA 2 ALIN. DEL DIQUE DEL OESTE (del ...</td>\n",
       "      <td>BALEARIA EUROLINEAS MARITIMAS S.A.U.</td>\n",
       "      <td>28.658</td>\n",
       "      <td>2181.0</td>\n",
       "      <td>CHIPRE</td>\n",
       "      <td>187.0</td>\n",
       "      <td>7.0</td>\n",
       "    </tr>\n",
       "  </tbody>\n",
       "</table>\n",
       "</div>"
      ],
      "text/plain": [
       "   transit_id                  barco     origen    destino           llegada  \\\n",
       "0           1           VALIANT LADY     CANNES      IBIZA  31/05/2023 17:44   \n",
       "1           2      ELEANOR ROOSEVELT      IBIZA      IBIZA  31/05/2023 22:28   \n",
       "2           3                TENACIA  BARCELONA  BARCELONA  01/06/2023 04:23   \n",
       "3           4            HEDY LAMARR   Valencia   Valencia  01/06/2023 04:53   \n",
       "4           5  HYPATIA DE ALEJANDRIA  BARCELONA  BARCELONA  01/06/2023 05:19   \n",
       "\n",
       "             salida                                         alineacion  \\\n",
       "0  01/06/2023 18:15          ALIN.NORTE DE LA PLATAFORMA (del 22 al 2)   \n",
       "1  01/06/2023 07:51                      MUELLE PARAIRES (del 11 al 2)   \n",
       "2  01/06/2023 09:59             M. 1ª ALIN. PONIENTE SUR (del 14 al 1)   \n",
       "3  01/06/2023 10:21           ALIN.OESTE DE LA PLATAFORMA (del 6 al 1)   \n",
       "4  01/06/2023 11:35  MUELLE DE LA 2 ALIN. DEL DIQUE DEL OESTE (del ...   \n",
       "\n",
       "                                       consignatorio       gt  escala  \\\n",
       "0                           ESTELA SHIPPING PALMA SA  108.192   192.0   \n",
       "1               BALEARIA EUROLINEAS MARITIMAS S.A.U.   12.262  2066.0   \n",
       "2  TRANSPORTES Y CONSIGNACIONES MARITIMAS BALEAR SAU   25.993  2462.0   \n",
       "3               BALEARIA EUROLINEAS MARITIMAS S.A.U.   26.375  2422.0   \n",
       "4               BALEARIA EUROLINEAS MARITIMAS S.A.U.   28.658  2181.0   \n",
       "\n",
       "   bandera  eslora  calado  \n",
       "0  BAHAMAS   277.0     8.0  \n",
       "1   CHIPRE   123.0     4.0  \n",
       "2   ITALIA   199.0     6.0  \n",
       "3   CHIPRE   186.0     7.0  \n",
       "4   CHIPRE   187.0     7.0  "
      ]
     },
     "execution_count": 19,
     "metadata": {},
     "output_type": "execute_result"
    }
   ],
   "source": [
    "df_transit_clean.head()"
   ]
  },
  {
   "cell_type": "code",
   "execution_count": 26,
   "metadata": {},
   "outputs": [],
   "source": [
    "c('drop table if exists trnasit_clean;')\n",
    "\n",
    "query ='''\n",
    "\n",
    "create table trnasit_clean(\n",
    "    transit_id int primary key not null,\n",
    "    barco varchar(45),\n",
    "    origen varchar(45),\n",
    "    destino\tvarchar(45),\n",
    "    llegada\tvarchar(45),\n",
    "    salida varchar(45),\n",
    "    alineacion varchar(100),\n",
    "    consignatorio varchar(100),\n",
    "    gt float,\n",
    "    escala float,\n",
    "    bandera varchar(45),\n",
    "    eslora float,\n",
    "    calado float\n",
    "    );\n",
    "'''\n",
    "\n",
    "c(query)"
   ]
  },
  {
   "cell_type": "code",
   "execution_count": 27,
   "metadata": {},
   "outputs": [],
   "source": [
    "# Relleno datos\n",
    "nombre_tabla = 'trnasit_clean'\n",
    "nombre_columnas = ','.join(df_transit_clean.columns) # creo una string\n",
    "\n",
    "#bucle por filas\n",
    "for i in range(df_transit_clean.shape[0]):\n",
    "    valores = tuple(df_transit_clean.iloc[i].values)\n",
    "\n",
    "    insert_query = f'insert into {nombre_tabla} ({nombre_columnas}) values {valores}'\n",
    "\n",
    "    cursor.execute(insert_query)\n"
   ]
  },
  {
   "cell_type": "code",
   "execution_count": 28,
   "metadata": {},
   "outputs": [
    {
     "data": {
      "text/plain": [
       "\"insert into trnasit_clean (transit_id,barco,origen,destino,llegada,salida,alineacion,consignatorio,gt,escala,bandera,eslora,calado) values (1049, 'ELEANOR ROOSEVELT', 'IBIZA', 'IBIZA', '31/08/2023 22:25', '01/09/2023 07:50', 'MUELLE PARAIRES (del 11 al 1)', 'BALEARIA EUROLINEAS MARITIMAS S.A.U.', 12.262, 3106.0, 'CHIPRE', 123.0, 4.0)\""
      ]
     },
     "execution_count": 28,
     "metadata": {},
     "output_type": "execute_result"
    }
   ],
   "source": [
    "insert_query"
   ]
  },
  {
   "cell_type": "code",
   "execution_count": 29,
   "metadata": {},
   "outputs": [
    {
     "name": "stdout",
     "output_type": "stream",
     "text": [
      "(1, 'VALIANT LADY', 'CANNES', 'IBIZA', '31/05/2023 17:44', '01/06/2023 18:15', 'ALIN.NORTE DE LA PLATAFORMA (del 22 al 2)', 'ESTELA SHIPPING PALMA SA', 108.192, 192.0, 'BAHAMAS', 277.0, 8.0)\n",
      "(2, 'ELEANOR ROOSEVELT', 'IBIZA', 'IBIZA', '31/05/2023 22:28', '01/06/2023 07:51', 'MUELLE PARAIRES (del 11 al 2)', 'BALEARIA EUROLINEAS MARITIMAS S.A.U.', 12.262, 2066.0, 'CHIPRE', 123.0, 4.0)\n"
     ]
    }
   ],
   "source": [
    "# Comprobamos\n",
    "\n",
    "cursor.execute('select * from trnasit_clean limit 2;')\n",
    "\n",
    "for x in cursor:\n",
    "    print(x)"
   ]
  },
  {
   "cell_type": "code",
   "execution_count": 30,
   "metadata": {},
   "outputs": [
    {
     "name": "stdout",
     "output_type": "stream",
     "text": [
      "(1049,)\n"
     ]
    }
   ],
   "source": [
    "# Comprobamos tamaño\n",
    "# check \n",
    "\n",
    "cursor.execute('select count(*) from trnasit_clean;')\n",
    "\n",
    "for x in cursor:\n",
    "    print(x)"
   ]
  },
  {
   "cell_type": "markdown",
   "metadata": {},
   "source": [
    "#### Puertos"
   ]
  },
  {
   "cell_type": "code",
   "execution_count": 36,
   "metadata": {},
   "outputs": [
    {
     "data": {
      "text/html": [
       "<div>\n",
       "<style scoped>\n",
       "    .dataframe tbody tr th:only-of-type {\n",
       "        vertical-align: middle;\n",
       "    }\n",
       "\n",
       "    .dataframe tbody tr th {\n",
       "        vertical-align: top;\n",
       "    }\n",
       "\n",
       "    .dataframe thead th {\n",
       "        text-align: right;\n",
       "    }\n",
       "</style>\n",
       "<table border=\"1\" class=\"dataframe\">\n",
       "  <thead>\n",
       "    <tr style=\"text-align: right;\">\n",
       "      <th></th>\n",
       "      <th>puertos_id</th>\n",
       "      <th>Puerto</th>\n",
       "      <th>Latitud</th>\n",
       "      <th>Longitud</th>\n",
       "    </tr>\n",
       "  </thead>\n",
       "  <tbody>\n",
       "    <tr>\n",
       "      <th>0</th>\n",
       "      <td>0</td>\n",
       "      <td>IBIZA</td>\n",
       "      <td>38.912653</td>\n",
       "      <td>1.442283</td>\n",
       "    </tr>\n",
       "    <tr>\n",
       "      <th>1</th>\n",
       "      <td>1</td>\n",
       "      <td>BARCELONA</td>\n",
       "      <td>41.346387</td>\n",
       "      <td>2.165532</td>\n",
       "    </tr>\n",
       "    <tr>\n",
       "      <th>2</th>\n",
       "      <td>2</td>\n",
       "      <td>Valencia</td>\n",
       "      <td>39.467328</td>\n",
       "      <td>-0.390288</td>\n",
       "    </tr>\n",
       "    <tr>\n",
       "      <th>3</th>\n",
       "      <td>3</td>\n",
       "      <td>MAHON, MENORCA</td>\n",
       "      <td>39.904400</td>\n",
       "      <td>4.247600</td>\n",
       "    </tr>\n",
       "    <tr>\n",
       "      <th>4</th>\n",
       "      <td>4</td>\n",
       "      <td>SAGUNTO</td>\n",
       "      <td>39.783600</td>\n",
       "      <td>-0.210800</td>\n",
       "    </tr>\n",
       "  </tbody>\n",
       "</table>\n",
       "</div>"
      ],
      "text/plain": [
       "   puertos_id          Puerto    Latitud  Longitud\n",
       "0           0           IBIZA  38.912653  1.442283\n",
       "1           1       BARCELONA  41.346387  2.165532\n",
       "2           2        Valencia  39.467328 -0.390288\n",
       "3           3  MAHON, MENORCA  39.904400  4.247600\n",
       "4           4         SAGUNTO  39.783600 -0.210800"
      ]
     },
     "execution_count": 36,
     "metadata": {},
     "output_type": "execute_result"
    }
   ],
   "source": [
    "df_puertos = df_puertos.rename(columns={'transit_coords_id': 'puertos_id'})\n",
    "df_puertos.head()"
   ]
  },
  {
   "cell_type": "code",
   "execution_count": 42,
   "metadata": {},
   "outputs": [],
   "source": [
    "c('drop table if exists puertos;')\n",
    "\n",
    "query ='''\n",
    "\n",
    "create table puertos(\n",
    "    puertos_id int primary key not null,\n",
    "    Puerto varchar(100),\n",
    "    Latitud float,\n",
    "    Longitud float\n",
    "    );\n",
    "'''\n",
    "\n",
    "c(query)"
   ]
  },
  {
   "cell_type": "code",
   "execution_count": 43,
   "metadata": {},
   "outputs": [],
   "source": [
    "# Relleno datos\n",
    "nombre_tabla = 'puertos'\n",
    "nombre_columnas = ','.join(df_puertos.columns) # creo una string\n",
    "\n",
    "#bucle por filas\n",
    "for i in range(df_puertos.shape[0]):\n",
    "    valores = tuple(df_puertos.iloc[i].values)\n",
    "\n",
    "    insert_query = f'insert into {nombre_tabla} ({nombre_columnas}) values {valores}'\n",
    "\n",
    "    cursor.execute(insert_query)"
   ]
  },
  {
   "cell_type": "code",
   "execution_count": 44,
   "metadata": {},
   "outputs": [
    {
     "data": {
      "text/plain": [
       "\"insert into puertos (puertos_id,Puerto,Latitud,Longitud) values (42, 'PORT EVERGLADES', 26.166667, -80.166667)\""
      ]
     },
     "execution_count": 44,
     "metadata": {},
     "output_type": "execute_result"
    }
   ],
   "source": [
    "insert_query"
   ]
  },
  {
   "cell_type": "code",
   "execution_count": 45,
   "metadata": {},
   "outputs": [
    {
     "name": "stdout",
     "output_type": "stream",
     "text": [
      "(0, 'IBIZA', 38.9127, 1.44228)\n",
      "(1, 'BARCELONA', 41.3464, 2.16553)\n"
     ]
    }
   ],
   "source": [
    "# Comprobamos\n",
    "\n",
    "cursor.execute('select * from puertos limit 2;')\n",
    "\n",
    "for x in cursor:\n",
    "    print(x)"
   ]
  },
  {
   "cell_type": "code",
   "execution_count": 46,
   "metadata": {},
   "outputs": [
    {
     "name": "stdout",
     "output_type": "stream",
     "text": [
      "(43,)\n"
     ]
    }
   ],
   "source": [
    "# Comprobamos tamaño\n",
    "# check \n",
    "\n",
    "cursor.execute('select count(*) from puertos;')\n",
    "\n",
    "for x in cursor:\n",
    "    print(x)"
   ]
  },
  {
   "cell_type": "code",
   "execution_count": null,
   "metadata": {},
   "outputs": [],
   "source": []
  }
 ],
 "metadata": {
  "kernelspec": {
   "display_name": "clase",
   "language": "python",
   "name": "python3"
  },
  "language_info": {
   "codemirror_mode": {
    "name": "ipython",
    "version": 3
   },
   "file_extension": ".py",
   "mimetype": "text/x-python",
   "name": "python",
   "nbconvert_exporter": "python",
   "pygments_lexer": "ipython3",
   "version": "3.10.13"
  }
 },
 "nbformat": 4,
 "nbformat_minor": 2
}
