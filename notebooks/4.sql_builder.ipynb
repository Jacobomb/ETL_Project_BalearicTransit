{
 "cells": [
  {
   "cell_type": "markdown",
   "metadata": {},
   "source": [
    "#### Creación base de datos - SQL\n",
    "Este notebook se va a utilizar para crear y rellenar la base de datos con las tablas previamente trabajadas."
   ]
  },
  {
   "cell_type": "code",
   "execution_count": 1,
   "metadata": {},
   "outputs": [],
   "source": [
    "import mysql.connector as conn\n",
    "from sqlalchemy import create_engine\n",
    "import warnings\n",
    "warnings.filterwarnings('ignore')\n",
    "import pandas as pd"
   ]
  },
  {
   "cell_type": "code",
   "execution_count": 2,
   "metadata": {},
   "outputs": [],
   "source": [
    "with open('contraseñas.txt') as file:\n",
    "    mypasswd = file.read()"
   ]
  },
  {
   "cell_type": "code",
   "execution_count": 3,
   "metadata": {},
   "outputs": [
    {
     "data": {
      "text/plain": [
       "<mysql.connector.cursor_cext.CMySQLCursor at 0x278c9803490>"
      ]
     },
     "execution_count": 3,
     "metadata": {},
     "output_type": "execute_result"
    }
   ],
   "source": [
    "# Nos conectamos al servidor \n",
    "conexion = conn.connect(host='localhost',\n",
    "                        user='root',\n",
    "                        passwd=f'{mypasswd}'\n",
    "                        )\n",
    "\n",
    "cursor  = conexion.cursor()\n",
    "\n",
    "cursor"
   ]
  },
  {
   "cell_type": "code",
   "execution_count": 4,
   "metadata": {},
   "outputs": [],
   "source": [
    "cursor.execute('drop database if exists transito')\n",
    "\n",
    "cursor.execute('create database transito;')"
   ]
  },
  {
   "cell_type": "code",
   "execution_count": 5,
   "metadata": {},
   "outputs": [],
   "source": [
    "conexion = conn.connect(host='localhost',\n",
    "                        user='root',\n",
    "                        passwd=f'{mypasswd}',\n",
    "                        database='transito'\n",
    "                        )\n",
    "\n",
    "cursor  = conexion.cursor()"
   ]
  },
  {
   "cell_type": "code",
   "execution_count": 6,
   "metadata": {},
   "outputs": [
    {
     "data": {
      "text/plain": [
       "<bound method CMySQLCursor.execute of <mysql.connector.cursor_cext.CMySQLCursor object at 0x00000278C956EEC0>>"
      ]
     },
     "execution_count": 6,
     "metadata": {},
     "output_type": "execute_result"
    }
   ],
   "source": [
    "c = cursor.execute\n",
    "c"
   ]
  },
  {
   "cell_type": "markdown",
   "metadata": {},
   "source": [
    "#### Insertamos tablas en el database"
   ]
  },
  {
   "cell_type": "code",
   "execution_count": 38,
   "metadata": {},
   "outputs": [],
   "source": [
    "# Leemos los 4 archivos csv que nos interesan\n",
    "df_transit_clean = pd.read_csv('../data/transit_clean.csv')\n",
    "df_puertos = pd.read_csv('../data/puertos.csv')\n",
    "df_transit_plus_weather = pd.read_csv('../data/transit_plus_weather.csv')\n",
    "df_otle_gt = pd.read_csv('../data/otle_gt.csv')"
   ]
  },
  {
   "cell_type": "markdown",
   "metadata": {},
   "source": [
    "#### Transit clean"
   ]
  },
  {
   "cell_type": "code",
   "execution_count": 8,
   "metadata": {},
   "outputs": [
    {
     "data": {
      "text/html": [
       "<div>\n",
       "<style scoped>\n",
       "    .dataframe tbody tr th:only-of-type {\n",
       "        vertical-align: middle;\n",
       "    }\n",
       "\n",
       "    .dataframe tbody tr th {\n",
       "        vertical-align: top;\n",
       "    }\n",
       "\n",
       "    .dataframe thead th {\n",
       "        text-align: right;\n",
       "    }\n",
       "</style>\n",
       "<table border=\"1\" class=\"dataframe\">\n",
       "  <thead>\n",
       "    <tr style=\"text-align: right;\">\n",
       "      <th></th>\n",
       "      <th>transit_id</th>\n",
       "      <th>barco</th>\n",
       "      <th>origen</th>\n",
       "      <th>destino</th>\n",
       "      <th>llegada</th>\n",
       "      <th>salida</th>\n",
       "      <th>alineacion</th>\n",
       "      <th>consignatorio</th>\n",
       "      <th>gt</th>\n",
       "      <th>escala</th>\n",
       "      <th>bandera</th>\n",
       "      <th>eslora</th>\n",
       "      <th>calado</th>\n",
       "    </tr>\n",
       "  </thead>\n",
       "  <tbody>\n",
       "    <tr>\n",
       "      <th>0</th>\n",
       "      <td>1</td>\n",
       "      <td>VALIANT LADY</td>\n",
       "      <td>CANNES</td>\n",
       "      <td>IBIZA</td>\n",
       "      <td>31/05/2023 17:44</td>\n",
       "      <td>01/06/2023 18:15</td>\n",
       "      <td>ALIN.NORTE DE LA PLATAFORMA (del 22 al 2)</td>\n",
       "      <td>ESTELA SHIPPING PALMA SA</td>\n",
       "      <td>108.192</td>\n",
       "      <td>192.0</td>\n",
       "      <td>BAHAMAS</td>\n",
       "      <td>277.0</td>\n",
       "      <td>8.0</td>\n",
       "    </tr>\n",
       "    <tr>\n",
       "      <th>1</th>\n",
       "      <td>2</td>\n",
       "      <td>ELEANOR ROOSEVELT</td>\n",
       "      <td>IBIZA</td>\n",
       "      <td>IBIZA</td>\n",
       "      <td>31/05/2023 22:28</td>\n",
       "      <td>01/06/2023 07:51</td>\n",
       "      <td>MUELLE PARAIRES (del 11 al 2)</td>\n",
       "      <td>BALEARIA EUROLINEAS MARITIMAS S.A.U.</td>\n",
       "      <td>12.262</td>\n",
       "      <td>2066.0</td>\n",
       "      <td>CHIPRE</td>\n",
       "      <td>123.0</td>\n",
       "      <td>4.0</td>\n",
       "    </tr>\n",
       "    <tr>\n",
       "      <th>2</th>\n",
       "      <td>3</td>\n",
       "      <td>TENACIA</td>\n",
       "      <td>BARCELONA</td>\n",
       "      <td>BARCELONA</td>\n",
       "      <td>01/06/2023 04:23</td>\n",
       "      <td>01/06/2023 09:59</td>\n",
       "      <td>M. 1ª ALIN. PONIENTE SUR (del 14 al 1)</td>\n",
       "      <td>TRANSPORTES Y CONSIGNACIONES MARITIMAS BALEAR SAU</td>\n",
       "      <td>25.993</td>\n",
       "      <td>2462.0</td>\n",
       "      <td>ITALIA</td>\n",
       "      <td>199.0</td>\n",
       "      <td>6.0</td>\n",
       "    </tr>\n",
       "    <tr>\n",
       "      <th>3</th>\n",
       "      <td>4</td>\n",
       "      <td>HEDY LAMARR</td>\n",
       "      <td>Valencia</td>\n",
       "      <td>Valencia</td>\n",
       "      <td>01/06/2023 04:53</td>\n",
       "      <td>01/06/2023 10:21</td>\n",
       "      <td>ALIN.OESTE DE LA PLATAFORMA (del 6 al 1)</td>\n",
       "      <td>BALEARIA EUROLINEAS MARITIMAS S.A.U.</td>\n",
       "      <td>26.375</td>\n",
       "      <td>2422.0</td>\n",
       "      <td>CHIPRE</td>\n",
       "      <td>186.0</td>\n",
       "      <td>7.0</td>\n",
       "    </tr>\n",
       "    <tr>\n",
       "      <th>4</th>\n",
       "      <td>5</td>\n",
       "      <td>HYPATIA DE ALEJANDRIA</td>\n",
       "      <td>BARCELONA</td>\n",
       "      <td>BARCELONA</td>\n",
       "      <td>01/06/2023 05:19</td>\n",
       "      <td>01/06/2023 11:35</td>\n",
       "      <td>MUELLE DE LA 2 ALIN. DEL DIQUE DEL OESTE (del ...</td>\n",
       "      <td>BALEARIA EUROLINEAS MARITIMAS S.A.U.</td>\n",
       "      <td>28.658</td>\n",
       "      <td>2181.0</td>\n",
       "      <td>CHIPRE</td>\n",
       "      <td>187.0</td>\n",
       "      <td>7.0</td>\n",
       "    </tr>\n",
       "  </tbody>\n",
       "</table>\n",
       "</div>"
      ],
      "text/plain": [
       "   transit_id                  barco     origen    destino           llegada  \\\n",
       "0           1           VALIANT LADY     CANNES      IBIZA  31/05/2023 17:44   \n",
       "1           2      ELEANOR ROOSEVELT      IBIZA      IBIZA  31/05/2023 22:28   \n",
       "2           3                TENACIA  BARCELONA  BARCELONA  01/06/2023 04:23   \n",
       "3           4            HEDY LAMARR   Valencia   Valencia  01/06/2023 04:53   \n",
       "4           5  HYPATIA DE ALEJANDRIA  BARCELONA  BARCELONA  01/06/2023 05:19   \n",
       "\n",
       "             salida                                         alineacion  \\\n",
       "0  01/06/2023 18:15          ALIN.NORTE DE LA PLATAFORMA (del 22 al 2)   \n",
       "1  01/06/2023 07:51                      MUELLE PARAIRES (del 11 al 2)   \n",
       "2  01/06/2023 09:59             M. 1ª ALIN. PONIENTE SUR (del 14 al 1)   \n",
       "3  01/06/2023 10:21           ALIN.OESTE DE LA PLATAFORMA (del 6 al 1)   \n",
       "4  01/06/2023 11:35  MUELLE DE LA 2 ALIN. DEL DIQUE DEL OESTE (del ...   \n",
       "\n",
       "                                       consignatorio       gt  escala  \\\n",
       "0                           ESTELA SHIPPING PALMA SA  108.192   192.0   \n",
       "1               BALEARIA EUROLINEAS MARITIMAS S.A.U.   12.262  2066.0   \n",
       "2  TRANSPORTES Y CONSIGNACIONES MARITIMAS BALEAR SAU   25.993  2462.0   \n",
       "3               BALEARIA EUROLINEAS MARITIMAS S.A.U.   26.375  2422.0   \n",
       "4               BALEARIA EUROLINEAS MARITIMAS S.A.U.   28.658  2181.0   \n",
       "\n",
       "   bandera  eslora  calado  \n",
       "0  BAHAMAS   277.0     8.0  \n",
       "1   CHIPRE   123.0     4.0  \n",
       "2   ITALIA   199.0     6.0  \n",
       "3   CHIPRE   186.0     7.0  \n",
       "4   CHIPRE   187.0     7.0  "
      ]
     },
     "execution_count": 8,
     "metadata": {},
     "output_type": "execute_result"
    }
   ],
   "source": [
    "df_transit_clean.head()"
   ]
  },
  {
   "cell_type": "code",
   "execution_count": 10,
   "metadata": {},
   "outputs": [],
   "source": [
    "c('drop table if exists transit_clean;')\n",
    "\n",
    "query ='''\n",
    "\n",
    "create table transit_clean(\n",
    "    transit_id int primary key not null,\n",
    "    barco varchar(45),\n",
    "    origen varchar(45),\n",
    "    destino\tvarchar(45),\n",
    "    llegada\tvarchar(45),\n",
    "    salida varchar(45),\n",
    "    alineacion varchar(100),\n",
    "    consignatorio varchar(100),\n",
    "    gt float,\n",
    "    escala float,\n",
    "    bandera varchar(45),\n",
    "    eslora float,\n",
    "    calado float\n",
    "    );\n",
    "'''\n",
    "\n",
    "c(query)"
   ]
  },
  {
   "cell_type": "code",
   "execution_count": 11,
   "metadata": {},
   "outputs": [],
   "source": [
    "# Relleno datos\n",
    "nombre_tabla = 'transit_clean'\n",
    "nombre_columnas = ','.join(df_transit_clean.columns) # creo una string\n",
    "\n",
    "#bucle por filas\n",
    "for i in range(df_transit_clean.shape[0]):\n",
    "    valores = tuple(df_transit_clean.iloc[i].values)\n",
    "\n",
    "    insert_query = f'insert into {nombre_tabla} ({nombre_columnas}) values {valores}'\n",
    "\n",
    "    cursor.execute(insert_query)\n"
   ]
  },
  {
   "cell_type": "code",
   "execution_count": 12,
   "metadata": {},
   "outputs": [
    {
     "data": {
      "text/plain": [
       "\"insert into transit_clean (transit_id,barco,origen,destino,llegada,salida,alineacion,consignatorio,gt,escala,bandera,eslora,calado) values (1049, 'ELEANOR ROOSEVELT', 'IBIZA', 'IBIZA', '31/08/2023 22:25', '01/09/2023 07:50', 'MUELLE PARAIRES (del 11 al 1)', 'BALEARIA EUROLINEAS MARITIMAS S.A.U.', 12.262, 3106.0, 'CHIPRE', 123.0, 4.0)\""
      ]
     },
     "execution_count": 12,
     "metadata": {},
     "output_type": "execute_result"
    }
   ],
   "source": [
    "insert_query"
   ]
  },
  {
   "cell_type": "code",
   "execution_count": 13,
   "metadata": {},
   "outputs": [
    {
     "name": "stdout",
     "output_type": "stream",
     "text": [
      "(1, 'VALIANT LADY', 'CANNES', 'IBIZA', '31/05/2023 17:44', '01/06/2023 18:15', 'ALIN.NORTE DE LA PLATAFORMA (del 22 al 2)', 'ESTELA SHIPPING PALMA SA', 108.192, 192.0, 'BAHAMAS', 277.0, 8.0)\n",
      "(2, 'ELEANOR ROOSEVELT', 'IBIZA', 'IBIZA', '31/05/2023 22:28', '01/06/2023 07:51', 'MUELLE PARAIRES (del 11 al 2)', 'BALEARIA EUROLINEAS MARITIMAS S.A.U.', 12.262, 2066.0, 'CHIPRE', 123.0, 4.0)\n"
     ]
    }
   ],
   "source": [
    "# Comprobamos\n",
    "\n",
    "cursor.execute('select * from transit_clean limit 2;')\n",
    "\n",
    "for x in cursor:\n",
    "    print(x)"
   ]
  },
  {
   "cell_type": "code",
   "execution_count": 14,
   "metadata": {},
   "outputs": [
    {
     "name": "stdout",
     "output_type": "stream",
     "text": [
      "(1049,)\n"
     ]
    }
   ],
   "source": [
    "# Comprobamos tamaño\n",
    "# check \n",
    "\n",
    "cursor.execute('select count(*) from transit_clean;')\n",
    "\n",
    "for x in cursor:\n",
    "    print(x)"
   ]
  },
  {
   "cell_type": "markdown",
   "metadata": {},
   "source": [
    "#### Puertos"
   ]
  },
  {
   "cell_type": "code",
   "execution_count": 19,
   "metadata": {},
   "outputs": [
    {
     "data": {
      "text/html": [
       "<div>\n",
       "<style scoped>\n",
       "    .dataframe tbody tr th:only-of-type {\n",
       "        vertical-align: middle;\n",
       "    }\n",
       "\n",
       "    .dataframe tbody tr th {\n",
       "        vertical-align: top;\n",
       "    }\n",
       "\n",
       "    .dataframe thead th {\n",
       "        text-align: right;\n",
       "    }\n",
       "</style>\n",
       "<table border=\"1\" class=\"dataframe\">\n",
       "  <thead>\n",
       "    <tr style=\"text-align: right;\">\n",
       "      <th></th>\n",
       "      <th>puertos_id</th>\n",
       "      <th>Puerto</th>\n",
       "      <th>Latitud</th>\n",
       "      <th>Longitud</th>\n",
       "    </tr>\n",
       "  </thead>\n",
       "  <tbody>\n",
       "    <tr>\n",
       "      <th>0</th>\n",
       "      <td>0</td>\n",
       "      <td>IBIZA</td>\n",
       "      <td>38.912653</td>\n",
       "      <td>1.442283</td>\n",
       "    </tr>\n",
       "    <tr>\n",
       "      <th>1</th>\n",
       "      <td>1</td>\n",
       "      <td>BARCELONA</td>\n",
       "      <td>41.346387</td>\n",
       "      <td>2.165532</td>\n",
       "    </tr>\n",
       "    <tr>\n",
       "      <th>2</th>\n",
       "      <td>2</td>\n",
       "      <td>Valencia</td>\n",
       "      <td>39.467328</td>\n",
       "      <td>-0.390288</td>\n",
       "    </tr>\n",
       "    <tr>\n",
       "      <th>3</th>\n",
       "      <td>3</td>\n",
       "      <td>MAHON, MENORCA</td>\n",
       "      <td>39.904400</td>\n",
       "      <td>4.247600</td>\n",
       "    </tr>\n",
       "    <tr>\n",
       "      <th>4</th>\n",
       "      <td>4</td>\n",
       "      <td>SAGUNTO</td>\n",
       "      <td>39.783600</td>\n",
       "      <td>-0.210800</td>\n",
       "    </tr>\n",
       "  </tbody>\n",
       "</table>\n",
       "</div>"
      ],
      "text/plain": [
       "   puertos_id          Puerto    Latitud  Longitud\n",
       "0           0           IBIZA  38.912653  1.442283\n",
       "1           1       BARCELONA  41.346387  2.165532\n",
       "2           2        Valencia  39.467328 -0.390288\n",
       "3           3  MAHON, MENORCA  39.904400  4.247600\n",
       "4           4         SAGUNTO  39.783600 -0.210800"
      ]
     },
     "execution_count": 19,
     "metadata": {},
     "output_type": "execute_result"
    }
   ],
   "source": [
    "df_puertos = df_puertos.rename(columns={'transit_coords_id': 'puertos_id'})\n",
    "df_puertos.head()"
   ]
  },
  {
   "cell_type": "code",
   "execution_count": 20,
   "metadata": {},
   "outputs": [],
   "source": [
    "c('drop table if exists puertos;')\n",
    "\n",
    "query ='''\n",
    "\n",
    "create table puertos(\n",
    "    puertos_id int primary key not null,\n",
    "    Puerto varchar(100),\n",
    "    Latitud float,\n",
    "    Longitud float\n",
    "    );\n",
    "'''\n",
    "\n",
    "c(query)"
   ]
  },
  {
   "cell_type": "code",
   "execution_count": 21,
   "metadata": {},
   "outputs": [],
   "source": [
    "# Relleno datos\n",
    "nombre_tabla = 'puertos'\n",
    "nombre_columnas = ','.join(df_puertos.columns) # creo una string\n",
    "\n",
    "#bucle por filas\n",
    "for i in range(df_puertos.shape[0]):\n",
    "    valores = tuple(df_puertos.iloc[i].values)\n",
    "\n",
    "    insert_query = f'insert into {nombre_tabla} ({nombre_columnas}) values {valores}'\n",
    "\n",
    "    cursor.execute(insert_query)"
   ]
  },
  {
   "cell_type": "code",
   "execution_count": 22,
   "metadata": {},
   "outputs": [
    {
     "data": {
      "text/plain": [
       "\"insert into puertos (puertos_id,Puerto,Latitud,Longitud) values (42, 'PORT EVERGLADES', 26.166667, -80.166667)\""
      ]
     },
     "execution_count": 22,
     "metadata": {},
     "output_type": "execute_result"
    }
   ],
   "source": [
    "insert_query"
   ]
  },
  {
   "cell_type": "code",
   "execution_count": 23,
   "metadata": {},
   "outputs": [
    {
     "name": "stdout",
     "output_type": "stream",
     "text": [
      "(0, 'IBIZA', 38.9127, 1.44228)\n",
      "(1, 'BARCELONA', 41.3464, 2.16553)\n"
     ]
    }
   ],
   "source": [
    "# Comprobamos\n",
    "\n",
    "cursor.execute('select * from puertos limit 2;')\n",
    "\n",
    "for x in cursor:\n",
    "    print(x)"
   ]
  },
  {
   "cell_type": "code",
   "execution_count": 24,
   "metadata": {},
   "outputs": [
    {
     "name": "stdout",
     "output_type": "stream",
     "text": [
      "(43,)\n"
     ]
    }
   ],
   "source": [
    "# Comprobamos tamaño\n",
    "# check \n",
    "\n",
    "cursor.execute('select count(*) from puertos;')\n",
    "\n",
    "for x in cursor:\n",
    "    print(x)"
   ]
  },
  {
   "cell_type": "markdown",
   "metadata": {},
   "source": [
    "#### Transit + Weather"
   ]
  },
  {
   "cell_type": "code",
   "execution_count": 25,
   "metadata": {},
   "outputs": [
    {
     "data": {
      "text/html": [
       "<div>\n",
       "<style scoped>\n",
       "    .dataframe tbody tr th:only-of-type {\n",
       "        vertical-align: middle;\n",
       "    }\n",
       "\n",
       "    .dataframe tbody tr th {\n",
       "        vertical-align: top;\n",
       "    }\n",
       "\n",
       "    .dataframe thead th {\n",
       "        text-align: right;\n",
       "    }\n",
       "</style>\n",
       "<table border=\"1\" class=\"dataframe\">\n",
       "  <thead>\n",
       "    <tr style=\"text-align: right;\">\n",
       "      <th></th>\n",
       "      <th>transit_id</th>\n",
       "      <th>barco</th>\n",
       "      <th>puerto_llegada</th>\n",
       "      <th>LatitudPuertoLlegada</th>\n",
       "      <th>LongitudPuertoLlegada</th>\n",
       "      <th>llegada_fecha</th>\n",
       "      <th>llegada_hora</th>\n",
       "      <th>salida_fecha</th>\n",
       "      <th>salida_hora</th>\n",
       "      <th>daily_rain_sum</th>\n",
       "      <th>daily_wind_speed_10m_max</th>\n",
       "    </tr>\n",
       "  </thead>\n",
       "  <tbody>\n",
       "    <tr>\n",
       "      <th>0</th>\n",
       "      <td>0</td>\n",
       "      <td>VALIANT LADY</td>\n",
       "      <td>IBIZA</td>\n",
       "      <td>38.912653</td>\n",
       "      <td>1.442283</td>\n",
       "      <td>2023-05-31</td>\n",
       "      <td>17:44</td>\n",
       "      <td>2023-06-01</td>\n",
       "      <td>18:15</td>\n",
       "      <td>0.0</td>\n",
       "      <td>8.209263</td>\n",
       "    </tr>\n",
       "    <tr>\n",
       "      <th>1</th>\n",
       "      <td>1</td>\n",
       "      <td>ELEANOR ROOSEVELT</td>\n",
       "      <td>IBIZA</td>\n",
       "      <td>38.912653</td>\n",
       "      <td>1.442283</td>\n",
       "      <td>2023-05-31</td>\n",
       "      <td>22:28</td>\n",
       "      <td>2023-06-01</td>\n",
       "      <td>07:51</td>\n",
       "      <td>0.0</td>\n",
       "      <td>8.209263</td>\n",
       "    </tr>\n",
       "    <tr>\n",
       "      <th>2</th>\n",
       "      <td>2</td>\n",
       "      <td>TENACIA</td>\n",
       "      <td>BARCELONA</td>\n",
       "      <td>41.346387</td>\n",
       "      <td>2.165532</td>\n",
       "      <td>2023-06-01</td>\n",
       "      <td>04:23</td>\n",
       "      <td>2023-06-01</td>\n",
       "      <td>09:59</td>\n",
       "      <td>2.7</td>\n",
       "      <td>14.336861</td>\n",
       "    </tr>\n",
       "    <tr>\n",
       "      <th>3</th>\n",
       "      <td>3</td>\n",
       "      <td>HEDY LAMARR</td>\n",
       "      <td>Valencia</td>\n",
       "      <td>39.467328</td>\n",
       "      <td>-0.390288</td>\n",
       "      <td>2023-06-01</td>\n",
       "      <td>04:53</td>\n",
       "      <td>2023-06-01</td>\n",
       "      <td>10:21</td>\n",
       "      <td>1.2</td>\n",
       "      <td>18.345877</td>\n",
       "    </tr>\n",
       "    <tr>\n",
       "      <th>4</th>\n",
       "      <td>4</td>\n",
       "      <td>HYPATIA DE ALEJANDRIA</td>\n",
       "      <td>BARCELONA</td>\n",
       "      <td>41.346387</td>\n",
       "      <td>2.165532</td>\n",
       "      <td>2023-06-01</td>\n",
       "      <td>05:19</td>\n",
       "      <td>2023-06-01</td>\n",
       "      <td>11:35</td>\n",
       "      <td>2.7</td>\n",
       "      <td>14.336861</td>\n",
       "    </tr>\n",
       "  </tbody>\n",
       "</table>\n",
       "</div>"
      ],
      "text/plain": [
       "   transit_id                  barco puerto_llegada  LatitudPuertoLlegada  \\\n",
       "0           0           VALIANT LADY          IBIZA             38.912653   \n",
       "1           1      ELEANOR ROOSEVELT          IBIZA             38.912653   \n",
       "2           2                TENACIA      BARCELONA             41.346387   \n",
       "3           3            HEDY LAMARR       Valencia             39.467328   \n",
       "4           4  HYPATIA DE ALEJANDRIA      BARCELONA             41.346387   \n",
       "\n",
       "   LongitudPuertoLlegada llegada_fecha llegada_hora salida_fecha salida_hora  \\\n",
       "0               1.442283    2023-05-31        17:44   2023-06-01       18:15   \n",
       "1               1.442283    2023-05-31        22:28   2023-06-01       07:51   \n",
       "2               2.165532    2023-06-01        04:23   2023-06-01       09:59   \n",
       "3              -0.390288    2023-06-01        04:53   2023-06-01       10:21   \n",
       "4               2.165532    2023-06-01        05:19   2023-06-01       11:35   \n",
       "\n",
       "   daily_rain_sum  daily_wind_speed_10m_max  \n",
       "0             0.0                  8.209263  \n",
       "1             0.0                  8.209263  \n",
       "2             2.7                 14.336861  \n",
       "3             1.2                 18.345877  \n",
       "4             2.7                 14.336861  "
      ]
     },
     "execution_count": 25,
     "metadata": {},
     "output_type": "execute_result"
    }
   ],
   "source": [
    "df_transit_plus_weather = df_transit_plus_weather.rename(columns={'Unnamed: 0': 'transit_id'})\n",
    "df_transit_plus_weather.head()"
   ]
  },
  {
   "cell_type": "code",
   "execution_count": 26,
   "metadata": {},
   "outputs": [],
   "source": [
    "c('drop table if exists transit_plus_weather;')\n",
    "\n",
    "query ='''\n",
    "\n",
    "create table transit_plus_weather(\n",
    "    transit_id int primary key not null,\n",
    "    barco varchar(45),\n",
    "    puerto_llegada varchar(45),\n",
    "    LatitudPuertoLlegada float,\n",
    "    LongitudPuertoLlegada float,\n",
    "    llegada_fecha varchar(45),\n",
    "    llegada_hora varchar(45),\n",
    "    salida_fecha varchar(45),\n",
    "    salida_hora varchar(45),\n",
    "    daily_rain_sum float,\n",
    "    daily_wind_speed_10m_max float\n",
    "    );\n",
    "'''\n",
    "\n",
    "c(query)"
   ]
  },
  {
   "cell_type": "code",
   "execution_count": 27,
   "metadata": {},
   "outputs": [],
   "source": [
    "# Relleno datos\n",
    "nombre_tabla = 'transit_plus_weather'\n",
    "nombre_columnas = ','.join(df_transit_plus_weather.columns) # creo una string\n",
    "\n",
    "#bucle por filas\n",
    "for i in range(df_transit_plus_weather.shape[0]):\n",
    "    valores = tuple(df_transit_plus_weather.iloc[i].values)\n",
    "\n",
    "    insert_query = f'insert into {nombre_tabla} ({nombre_columnas}) values {valores}'\n",
    "\n",
    "    cursor.execute(insert_query)"
   ]
  },
  {
   "cell_type": "code",
   "execution_count": 28,
   "metadata": {},
   "outputs": [
    {
     "data": {
      "text/plain": [
       "\"insert into transit_plus_weather (transit_id,barco,puerto_llegada,LatitudPuertoLlegada,LongitudPuertoLlegada,llegada_fecha,llegada_hora,salida_fecha,salida_hora,daily_rain_sum,daily_wind_speed_10m_max) values (1048, 'ELEANOR ROOSEVELT', 'IBIZA', 38.912653, 1.442283, '2023-08-31', '22:25', '2023-09-01', '07:50', 0.0, 16.279802)\""
      ]
     },
     "execution_count": 28,
     "metadata": {},
     "output_type": "execute_result"
    }
   ],
   "source": [
    "insert_query"
   ]
  },
  {
   "cell_type": "code",
   "execution_count": 29,
   "metadata": {},
   "outputs": [
    {
     "name": "stdout",
     "output_type": "stream",
     "text": [
      "(0, 'VALIANT LADY', 'IBIZA', 38.9127, 1.44228, '2023-05-31', '17:44', '2023-06-01', '18:15', 0.0, 8.20926)\n",
      "(1, 'ELEANOR ROOSEVELT', 'IBIZA', 38.9127, 1.44228, '2023-05-31', '22:28', '2023-06-01', '07:51', 0.0, 8.20926)\n"
     ]
    }
   ],
   "source": [
    "# Comprobamos\n",
    "\n",
    "cursor.execute('select * from transit_plus_weather limit 2;')\n",
    "\n",
    "for x in cursor:\n",
    "    print(x)"
   ]
  },
  {
   "cell_type": "code",
   "execution_count": 30,
   "metadata": {},
   "outputs": [
    {
     "name": "stdout",
     "output_type": "stream",
     "text": [
      "(1049,)\n"
     ]
    }
   ],
   "source": [
    "# Comprobamos tamaño\n",
    "# check \n",
    "\n",
    "cursor.execute('select count(*) from transit_plus_weather;')\n",
    "\n",
    "for x in cursor:\n",
    "    print(x)"
   ]
  },
  {
   "cell_type": "markdown",
   "metadata": {},
   "source": [
    "#### OTLE GT "
   ]
  },
  {
   "cell_type": "code",
   "execution_count": 39,
   "metadata": {},
   "outputs": [
    {
     "data": {
      "text/html": [
       "<div>\n",
       "<style scoped>\n",
       "    .dataframe tbody tr th:only-of-type {\n",
       "        vertical-align: middle;\n",
       "    }\n",
       "\n",
       "    .dataframe tbody tr th {\n",
       "        vertical-align: top;\n",
       "    }\n",
       "\n",
       "    .dataframe thead th {\n",
       "        text-align: right;\n",
       "    }\n",
       "</style>\n",
       "<table border=\"1\" class=\"dataframe\">\n",
       "  <thead>\n",
       "    <tr style=\"text-align: right;\">\n",
       "      <th></th>\n",
       "      <th>otle_id</th>\n",
       "      <th>autoridad_portuaria</th>\n",
       "      <th>tipo_buque</th>\n",
       "      <th>procedencia</th>\n",
       "      <th>year</th>\n",
       "      <th>num_buques</th>\n",
       "      <th>gt</th>\n",
       "    </tr>\n",
       "  </thead>\n",
       "  <tbody>\n",
       "    <tr>\n",
       "      <th>0</th>\n",
       "      <td>0</td>\n",
       "      <td>Autoridad Portuaria A Coruña</td>\n",
       "      <td>Tanqueros</td>\n",
       "      <td>Nacionales</td>\n",
       "      <td>2019</td>\n",
       "      <td>3.0</td>\n",
       "      <td>54.468</td>\n",
       "    </tr>\n",
       "    <tr>\n",
       "      <th>1</th>\n",
       "      <td>1</td>\n",
       "      <td>Autoridad Portuaria A Coruña</td>\n",
       "      <td>Tanqueros</td>\n",
       "      <td>Nacionales</td>\n",
       "      <td>2020</td>\n",
       "      <td>4.0</td>\n",
       "      <td>21.696</td>\n",
       "    </tr>\n",
       "    <tr>\n",
       "      <th>2</th>\n",
       "      <td>2</td>\n",
       "      <td>Autoridad Portuaria A Coruña</td>\n",
       "      <td>Tanqueros</td>\n",
       "      <td>Nacionales</td>\n",
       "      <td>2021</td>\n",
       "      <td>1.0</td>\n",
       "      <td>5.424</td>\n",
       "    </tr>\n",
       "    <tr>\n",
       "      <th>3</th>\n",
       "      <td>3</td>\n",
       "      <td>Autoridad Portuaria A Coruña</td>\n",
       "      <td>Tanqueros</td>\n",
       "      <td>Extranjeros</td>\n",
       "      <td>2019</td>\n",
       "      <td>424.0</td>\n",
       "      <td>9.472.798</td>\n",
       "    </tr>\n",
       "    <tr>\n",
       "      <th>4</th>\n",
       "      <td>4</td>\n",
       "      <td>Autoridad Portuaria A Coruña</td>\n",
       "      <td>Tanqueros</td>\n",
       "      <td>Extranjeros</td>\n",
       "      <td>2020</td>\n",
       "      <td>287.0</td>\n",
       "      <td>7.244.978</td>\n",
       "    </tr>\n",
       "  </tbody>\n",
       "</table>\n",
       "</div>"
      ],
      "text/plain": [
       "   otle_id           autoridad_portuaria tipo_buque  procedencia  year  \\\n",
       "0        0  Autoridad Portuaria A Coruña  Tanqueros   Nacionales  2019   \n",
       "1        1  Autoridad Portuaria A Coruña  Tanqueros   Nacionales  2020   \n",
       "2        2  Autoridad Portuaria A Coruña  Tanqueros   Nacionales  2021   \n",
       "3        3  Autoridad Portuaria A Coruña  Tanqueros  Extranjeros  2019   \n",
       "4        4  Autoridad Portuaria A Coruña  Tanqueros  Extranjeros  2020   \n",
       "\n",
       "   num_buques         gt  \n",
       "0         3.0     54.468  \n",
       "1         4.0     21.696  \n",
       "2         1.0      5.424  \n",
       "3       424.0  9.472.798  \n",
       "4       287.0  7.244.978  "
      ]
     },
     "execution_count": 39,
     "metadata": {},
     "output_type": "execute_result"
    }
   ],
   "source": [
    "df_otle_gt = df_otle_gt.rename(columns={'Unnamed: 0': 'otle_id'})\n",
    "df_otle_gt.head()"
   ]
  },
  {
   "cell_type": "code",
   "execution_count": 46,
   "metadata": {},
   "outputs": [
    {
     "data": {
      "text/html": [
       "<div>\n",
       "<style scoped>\n",
       "    .dataframe tbody tr th:only-of-type {\n",
       "        vertical-align: middle;\n",
       "    }\n",
       "\n",
       "    .dataframe tbody tr th {\n",
       "        vertical-align: top;\n",
       "    }\n",
       "\n",
       "    .dataframe thead th {\n",
       "        text-align: right;\n",
       "    }\n",
       "</style>\n",
       "<table border=\"1\" class=\"dataframe\">\n",
       "  <thead>\n",
       "    <tr style=\"text-align: right;\">\n",
       "      <th></th>\n",
       "      <th>otle_id</th>\n",
       "      <th>autoridad_portuaria</th>\n",
       "      <th>tipo_buque</th>\n",
       "      <th>procedencia</th>\n",
       "      <th>year</th>\n",
       "      <th>num_buques</th>\n",
       "      <th>gt</th>\n",
       "    </tr>\n",
       "  </thead>\n",
       "  <tbody>\n",
       "    <tr>\n",
       "      <th>0</th>\n",
       "      <td>0</td>\n",
       "      <td>Autoridad Portuaria A Coruña</td>\n",
       "      <td>Tanqueros</td>\n",
       "      <td>Nacionales</td>\n",
       "      <td>2019</td>\n",
       "      <td>3.0</td>\n",
       "      <td>54468</td>\n",
       "    </tr>\n",
       "    <tr>\n",
       "      <th>1</th>\n",
       "      <td>1</td>\n",
       "      <td>Autoridad Portuaria A Coruña</td>\n",
       "      <td>Tanqueros</td>\n",
       "      <td>Nacionales</td>\n",
       "      <td>2020</td>\n",
       "      <td>4.0</td>\n",
       "      <td>21696</td>\n",
       "    </tr>\n",
       "    <tr>\n",
       "      <th>2</th>\n",
       "      <td>2</td>\n",
       "      <td>Autoridad Portuaria A Coruña</td>\n",
       "      <td>Tanqueros</td>\n",
       "      <td>Nacionales</td>\n",
       "      <td>2021</td>\n",
       "      <td>1.0</td>\n",
       "      <td>5424</td>\n",
       "    </tr>\n",
       "    <tr>\n",
       "      <th>3</th>\n",
       "      <td>3</td>\n",
       "      <td>Autoridad Portuaria A Coruña</td>\n",
       "      <td>Tanqueros</td>\n",
       "      <td>Extranjeros</td>\n",
       "      <td>2019</td>\n",
       "      <td>424.0</td>\n",
       "      <td>9472798</td>\n",
       "    </tr>\n",
       "    <tr>\n",
       "      <th>4</th>\n",
       "      <td>4</td>\n",
       "      <td>Autoridad Portuaria A Coruña</td>\n",
       "      <td>Tanqueros</td>\n",
       "      <td>Extranjeros</td>\n",
       "      <td>2020</td>\n",
       "      <td>287.0</td>\n",
       "      <td>7244978</td>\n",
       "    </tr>\n",
       "  </tbody>\n",
       "</table>\n",
       "</div>"
      ],
      "text/plain": [
       "   otle_id           autoridad_portuaria tipo_buque  procedencia  year  \\\n",
       "0        0  Autoridad Portuaria A Coruña  Tanqueros   Nacionales  2019   \n",
       "1        1  Autoridad Portuaria A Coruña  Tanqueros   Nacionales  2020   \n",
       "2        2  Autoridad Portuaria A Coruña  Tanqueros   Nacionales  2021   \n",
       "3        3  Autoridad Portuaria A Coruña  Tanqueros  Extranjeros  2019   \n",
       "4        4  Autoridad Portuaria A Coruña  Tanqueros  Extranjeros  2020   \n",
       "\n",
       "   num_buques       gt  \n",
       "0         3.0    54468  \n",
       "1         4.0    21696  \n",
       "2         1.0     5424  \n",
       "3       424.0  9472798  \n",
       "4       287.0  7244978  "
      ]
     },
     "execution_count": 46,
     "metadata": {},
     "output_type": "execute_result"
    }
   ],
   "source": [
    "# Voy a tener probelmas con los puntos de la columna 'gt' así que voy a quitar los puntos \n",
    "df_otle_gt['gt'] = df_otle_gt['gt'].str.replace('.', '')\n",
    "df_otle_gt.head()"
   ]
  },
  {
   "cell_type": "code",
   "execution_count": 47,
   "metadata": {},
   "outputs": [],
   "source": [
    "c('drop table if exists otle_gt;')\n",
    "\n",
    "query ='''\n",
    "\n",
    "create table otle_gt(\n",
    "    otle_id int primary key not null,\n",
    "    autoridad_portuaria\tvarchar(100),\n",
    "    tipo_buque varchar(45),\n",
    "    procedencia varchar(45),\n",
    "    year int,\n",
    "    num_buques int,\n",
    "    gt float\n",
    "    );\n",
    "'''\n",
    "\n",
    "c(query)"
   ]
  },
  {
   "cell_type": "code",
   "execution_count": 48,
   "metadata": {},
   "outputs": [],
   "source": [
    "# Relleno datos\n",
    "nombre_tabla = 'otle_gt'\n",
    "nombre_columnas = ','.join(df_otle_gt.columns) # creo una string\n",
    "\n",
    "#bucle por filas\n",
    "for i in range(df_otle_gt.shape[0]):\n",
    "    valores = tuple(df_otle_gt.iloc[i].values)\n",
    "\n",
    "    insert_query = f'insert into {nombre_tabla} ({nombre_columnas}) values {valores}'\n",
    "\n",
    "    cursor.execute(insert_query)"
   ]
  },
  {
   "cell_type": "code",
   "execution_count": 49,
   "metadata": {},
   "outputs": [
    {
     "data": {
      "text/plain": [
       "\"insert into otle_gt (otle_id,autoridad_portuaria,tipo_buque,procedencia,year,num_buques,gt) values (1175, 'Autoridad Portuaria Vilagarcía', 'Solo de pasaje', 'Extranjeros', 2021, 4.0, '153468')\""
      ]
     },
     "execution_count": 49,
     "metadata": {},
     "output_type": "execute_result"
    }
   ],
   "source": [
    "insert_query"
   ]
  },
  {
   "cell_type": "code",
   "execution_count": 50,
   "metadata": {},
   "outputs": [
    {
     "name": "stdout",
     "output_type": "stream",
     "text": [
      "(0, 'Autoridad Portuaria A Coruña', 'Tanqueros', 'Nacionales', 2019, 3, 54468.0)\n",
      "(1, 'Autoridad Portuaria A Coruña', 'Tanqueros', 'Nacionales', 2020, 4, 21696.0)\n"
     ]
    }
   ],
   "source": [
    "# Comprobamos\n",
    "\n",
    "cursor.execute('select * from otle_gt limit 2;')\n",
    "\n",
    "for x in cursor:\n",
    "    print(x)"
   ]
  },
  {
   "cell_type": "code",
   "execution_count": 51,
   "metadata": {},
   "outputs": [
    {
     "name": "stdout",
     "output_type": "stream",
     "text": [
      "(1113,)\n"
     ]
    }
   ],
   "source": [
    "# Comprobamos tamaño\n",
    "# check \n",
    "\n",
    "cursor.execute('select count(*) from otle_gt;')\n",
    "\n",
    "for x in cursor:\n",
    "    print(x)"
   ]
  },
  {
   "cell_type": "code",
   "execution_count": 52,
   "metadata": {},
   "outputs": [
    {
     "name": "stdout",
     "output_type": "stream",
     "text": [
      "('otle_gt',)\n",
      "('puertos',)\n",
      "('transit_clean',)\n",
      "('transit_plus_weather',)\n",
      "('trnasit_clean',)\n"
     ]
    }
   ],
   "source": [
    "cursor.execute('show tables;')\n",
    "\n",
    "for e in cursor:\n",
    "    print(e)"
   ]
  },
  {
   "cell_type": "markdown",
   "metadata": {},
   "source": [
    "* Me falta borrar una tabla que hice por error con una errata"
   ]
  },
  {
   "cell_type": "code",
   "execution_count": 54,
   "metadata": {},
   "outputs": [
    {
     "name": "stdout",
     "output_type": "stream",
     "text": [
      "Table was dropped succesfully\n"
     ]
    }
   ],
   "source": [
    "table_name = 'trnasit_clean'\n",
    "try:\n",
    "    cursor.execute(f'DROP TABLE {table_name}')\n",
    "    print('Table was dropped succesfully')\n",
    "except:\n",
    "    print('Error, table not found or already dropped beforehand.')\n"
   ]
  },
  {
   "cell_type": "code",
   "execution_count": 55,
   "metadata": {},
   "outputs": [
    {
     "name": "stdout",
     "output_type": "stream",
     "text": [
      "('otle_gt',)\n",
      "('puertos',)\n",
      "('transit_clean',)\n",
      "('transit_plus_weather',)\n"
     ]
    }
   ],
   "source": [
    "cursor.execute('show tables;')\n",
    "\n",
    "for e in cursor:\n",
    "    print(e)"
   ]
  },
  {
   "cell_type": "code",
   "execution_count": null,
   "metadata": {},
   "outputs": [],
   "source": []
  }
 ],
 "metadata": {
  "kernelspec": {
   "display_name": "clase",
   "language": "python",
   "name": "python3"
  },
  "language_info": {
   "codemirror_mode": {
    "name": "ipython",
    "version": 3
   },
   "file_extension": ".py",
   "mimetype": "text/x-python",
   "name": "python",
   "nbconvert_exporter": "python",
   "pygments_lexer": "ipython3",
   "version": "3.10.13"
  }
 },
 "nbformat": 4,
 "nbformat_minor": 2
}
